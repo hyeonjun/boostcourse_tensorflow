{
  "nbformat": 4,
  "nbformat_minor": 0,
  "metadata": {
    "colab": {
      "name": "lab-12-1-many-to-one-keras-eager.ipynb",
      "provenance": [],
      "collapsed_sections": [],
      "authorship_tag": "ABX9TyNv5/AwjOJRkDCach2sad64",
      "include_colab_link": true
    },
    "kernelspec": {
      "name": "python3",
      "display_name": "Python 3"
    },
    "language_info": {
      "name": "python"
    }
  },
  "cells": [
    {
      "cell_type": "markdown",
      "metadata": {
        "id": "view-in-github",
        "colab_type": "text"
      },
      "source": [
        "<a href=\"https://colab.research.google.com/github/hyeonjun/boostcourse_tensorflow/blob/master/lab_12_1_many_to_one_keras_eager.ipynb\" target=\"_parent\"><img src=\"https://colab.research.google.com/assets/colab-badge.svg\" alt=\"Open In Colab\"/></a>"
      ]
    },
    {
      "cell_type": "markdown",
      "metadata": {
        "id": "obTFUhAAq4NN"
      },
      "source": [
        "- one to many\n",
        "\n",
        "특정 이미지를 입력으로 받아 캡션을 생성하는 이미지 캡션 분야에 활용할 수 있다.\n",
        "\n",
        "- many to many\n",
        "\n",
        "문장을 입력받아 문장이 출력되는 neural machine translation으로 활용할 수 있다. 또한, 문장을 입력받아 문장의 형태소를 분석해주는 형태소 분석기로도 활용할 수 있다.\n",
        "\n",
        "* many to one\n",
        "\n",
        "자연어 처리 분야에서 어떤 문장, 또는 단어를 RNN으로 인코딩하여 해당 문장 또는 단어의 sentiment를 classification하는데 활용할 수 있다.\n",
        "\n"
      ]
    },
    {
      "cell_type": "markdown",
      "metadata": {
        "id": "BCyA_cBXrsuk"
      },
      "source": [
        "예를 들어, This movie is good 이라는 sentence가 있다.\n",
        "\n",
        "sentence의 polarity를 파악하는 문제.\n",
        "\n",
        "이 문제에서 sentence를 word의 시퀀스로 생각하여, word단위로 sentence를 분해한다.\n",
        "이 분해를 Tokenization했다고 얘기한다.\n",
        "\n",
        "이후, RNN을 활용하여 각각의 토큰을 읽고 마지막 토큰을 읽었을 때, polarity를 classification 방식으로 활용하는 것이 many to one의 형태로 RNN을 활용하는 방법 중 하나라고 할 수 있다.\n",
        "\n",
        "이때 토큰인 word는 숫자가 아니지 때문에 RNN으로 처리할 수가 없다. 그래서 이 토큰을 numeric vector로 바꾸는 연산을 담당하는 Embedding layer가 존재한다. \n",
        "\n",
        "이 Embedding layer는 활용하는 방식에 따라 학습할 수도 있고 안할 수도 있다.\n",
        "\n",
        "Embedding layer가 각각의 토큰을 RNN이 처리할 수 있도록 해주면 RNN은 토큰을 순서대로 읽어들여 마지막 토큰까지 다 읽었을 때 나온 출력과 정답 간의 loss를 계산할 수 있게 된다.\n",
        "\n",
        "그리고 이 loss를 기반으로 back propagation을 통해 RNN을 학습할 수 있다.\n"
      ]
    },
    {
      "cell_type": "code",
      "metadata": {
        "id": "lUPGLzCeWfig"
      },
      "source": [
        "# Word sentiment class\n",
        "# - many to one\n",
        "# - variable input sequence length\n",
        "import numpy as np\n",
        "import tensorflow as tf\n",
        "import matplotlib.pyplot as plt\n",
        "from tensorflow import keras\n",
        "from tensorflow.keras import layers\n",
        "from tensorflow.keras import Sequential,Model\n",
        "from tensorflow.keras.preprocessing.sequence import pad_sequences\n",
        "%matplotlib inline"
      ],
      "execution_count": null,
      "outputs": []
    },
    {
      "cell_type": "code",
      "metadata": {
        "colab": {
          "base_uri": "https://localhost:8080/"
        },
        "id": "HYyfzPpDXV_v",
        "outputId": "da21ee9c-caa2-498f-fa16-30b2bff37fab"
      },
      "source": [
        "# Preparing dataset\n",
        "\n",
        "# example data\n",
        "words = ['good', 'bad', 'worse', 'so good']\n",
        "y_data = [1,0,0,1] # 위 word에 대한 긍(1), 부(0)정 레이블 값\n",
        "\n",
        "# creating a token dictionary\n",
        "char_set = ['<pad>']+ sorted(list(set(''.join(words)))) # pad라는 토큰이 추가됨.\n",
        "\"\"\"\n",
        "pad라는 토큰이 추가되는 이유.\n",
        "word를 캐릭터의 시퀀스로 간주했을 때 각각의 시퀀스의 길이가 다르기 때문.\n",
        "\n",
        "딥러닝에서는 batch 단위 연산이 효율적이다.\n",
        "이를 위해 RNN을 구현할 때 데이터가 서로 다른 시퀀스의 length를 가진 경우\n",
        "길이를 맞추기 위해 pad와 같은 특별한 토큰을 도입하여 데이터의 시퀀스를 맞춘다.\n",
        "\"\"\"\n",
        "\n",
        "idx2char = {idx : char for idx, char in enumerate(char_set)}\n",
        "char2idx = {char : idx for idx, char in enumerate(char_set)}\n",
        "\n",
        "print(char_set)\n",
        "print(idx2char)\n",
        "print(char2idx)"
      ],
      "execution_count": null,
      "outputs": [
        {
          "output_type": "stream",
          "text": [
            "['<pad>', ' ', 'a', 'b', 'd', 'e', 'g', 'o', 'r', 's', 'w']\n",
            "{0: '<pad>', 1: ' ', 2: 'a', 3: 'b', 4: 'd', 5: 'e', 6: 'g', 7: 'o', 8: 'r', 9: 's', 10: 'w'}\n",
            "{'<pad>': 0, ' ': 1, 'a': 2, 'b': 3, 'd': 4, 'e': 5, 'g': 6, 'o': 7, 'r': 8, 's': 9, 'w': 10}\n"
          ],
          "name": "stdout"
        }
      ]
    },
    {
      "cell_type": "code",
      "metadata": {
        "colab": {
          "base_uri": "https://localhost:8080/"
        },
        "id": "wCSuQHrUYBEB",
        "outputId": "411849ca-6b3f-4fbe-fba8-3b4294fa32ce"
      },
      "source": [
        "# converting sequence of tokens to sequence of indices\n",
        "x_data = list(map(lambda word : [char2idx.get(char) for char in word], words))\n",
        "x_data_len = list(map(lambda word : len(word), x_data))\n",
        "\n",
        "print(x_data)\n",
        "print(x_data_len)"
      ],
      "execution_count": null,
      "outputs": [
        {
          "output_type": "stream",
          "text": [
            "[[6, 7, 7, 4], [3, 2, 4], [10, 7, 8, 9, 5], [9, 7, 1, 6, 7, 7, 4]]\n",
            "[4, 3, 5, 7]\n"
          ],
          "name": "stdout"
        }
      ]
    },
    {
      "cell_type": "code",
      "metadata": {
        "colab": {
          "base_uri": "https://localhost:8080/"
        },
        "id": "xhwYZjrQYT0f",
        "outputId": "63e7fc9f-abd7-4c61-d1e4-4f89438160f8"
      },
      "source": [
        "# padding the sequence of indices\n",
        "max_sequence = 10\n",
        "# max_sequence 값만큼의 길이로 데이터를 padding한다.\n",
        "# pad_sequences는 기본적으로 0값으로 padding한다.\n",
        "x_data = pad_sequences(sequences=x_data, maxlen=max_sequence,\n",
        "                       padding='post', truncating='post')\n",
        "\n",
        "# checking data\n",
        "print(x_data)\n",
        "print(x_data_len)\n",
        "print(y_data)"
      ],
      "execution_count": null,
      "outputs": [
        {
          "output_type": "stream",
          "text": [
            "[[ 6  7  7  4  0  0  0  0  0  0]\n",
            " [ 3  2  4  0  0  0  0  0  0  0]\n",
            " [10  7  8  9  5  0  0  0  0  0]\n",
            " [ 9  7  1  6  7  7  4  0  0  0]]\n",
            "[4, 3, 5, 7]\n",
            "[1, 0, 0, 1]\n"
          ],
          "name": "stdout"
        }
      ]
    },
    {
      "cell_type": "code",
      "metadata": {
        "colab": {
          "base_uri": "https://localhost:8080/"
        },
        "id": "PDBmuaTBYv8Q",
        "outputId": "ed61b8c4-5f73-4698-99fb-48ff802c4d89"
      },
      "source": [
        "# Creating model\n",
        "# creating simple rnn for \"many to one\" classification\n",
        "input_dim = len(char2idx)\n",
        "output_dim = len(char2idx)\n",
        "one_hot = np.eye(len(char2idx))\n",
        "hidden_size = 10\n",
        "num_classes = 2\n",
        "\n",
        "model =Sequential()\n",
        "# embedding layer는 토큰을 one hot vector로 표현\n",
        "# one hot vector란 vector의 elements가 특정 토큰의\n",
        "# integer index 값에 해당하는 부분만 1이고, 나머지는 0인 벡터\n",
        "# mask_zero=True : 전처리 단계에서 0 값으로 padding된 부분을 알아서 연산에서 제외.\n",
        "# trainable=False : one hot vector를 트레이닝하지 않을 수 있음.\n",
        "model.add(layers.Embedding(input_dim=input_dim, output_dim=output_dim,\n",
        "                           trainable=False, mask_zero=True, input_length=max_sequence,\n",
        "                           embeddings_initializer=keras.initializers.Constant(one_hot)))\n",
        "# SimpleRNN : 기본적으로 시퀀스의 마지막 토큰을 인풋으로 받아 처리한 결과를 리턴.\n",
        "model.add(layers.SimpleRNN(units=hidden_size))\n",
        "# Dense를 이용하여 RNN을 many to one의 방식으로 활용하는 코드 완성.\n",
        "model.add(layers.Dense(units=num_classes))\n",
        "\n",
        "model.summary()"
      ],
      "execution_count": null,
      "outputs": [
        {
          "output_type": "stream",
          "text": [
            "Model: \"sequential_1\"\n",
            "_________________________________________________________________\n",
            "Layer (type)                 Output Shape              Param #   \n",
            "=================================================================\n",
            "embedding (Embedding)        (None, 10, 11)            121       \n",
            "_________________________________________________________________\n",
            "simple_rnn (SimpleRNN)       (None, 10)                220       \n",
            "_________________________________________________________________\n",
            "dense (Dense)                (None, 2)                 22        \n",
            "=================================================================\n",
            "Total params: 363\n",
            "Trainable params: 242\n",
            "Non-trainable params: 121\n",
            "_________________________________________________________________\n"
          ],
          "name": "stdout"
        }
      ]
    },
    {
      "cell_type": "code",
      "metadata": {
        "id": "MyxBU9PIZ7SA"
      },
      "source": [
        "# Training model\n",
        "# creating loss function\n",
        "# classification 문제를 풀고있기 때문에 cross_entropy 계산하는 함수를 활용\n",
        "# 특히 y가 one hot vector의 형태로 들어오지 않고,\n",
        "# integer의 형태로 들어오기 때문에 이를 처리할 수 있는\n",
        "# tf.keras.losses.sparse_categorical_crossentropy를 활용한다.\n",
        "def loss_fn(model, x, y):\n",
        "  return tf.reduce_mean(tf.keras.losses.sparse_categorical_crossentropy(\n",
        "      y_true=y, y_pred=model(x), from_logits=True\n",
        "  ))\n",
        "\n",
        "# creating an optimizer\n",
        "lr = .01\n",
        "epochs = 30\n",
        "batch_size = 2\n",
        "opt = tf.keras.optimizers.Adam(learning_rate=lr)"
      ],
      "execution_count": null,
      "outputs": []
    },
    {
      "cell_type": "code",
      "metadata": {
        "colab": {
          "base_uri": "https://localhost:8080/"
        },
        "id": "yGt8PViaaTon",
        "outputId": "4aae9daa-2905-42fb-e560-8eb53bc64f13"
      },
      "source": [
        "# generating data pipeline\n",
        "tr_dataset = tf.data.Dataset.from_tensor_slices((x_data, y_data))\n",
        "tr_dataset = tr_dataset.shuffle(buffer_size = 4)\n",
        "tr_dataset = tr_dataset.batch(batch_size=batch_size)\n",
        "\n",
        "print(tr_dataset)"
      ],
      "execution_count": null,
      "outputs": [
        {
          "output_type": "stream",
          "text": [
            "<BatchDataset shapes: ((None, 10), (None,)), types: (tf.int32, tf.int32)>\n"
          ],
          "name": "stdout"
        }
      ]
    },
    {
      "cell_type": "code",
      "metadata": {
        "colab": {
          "base_uri": "https://localhost:8080/"
        },
        "id": "OGBi-S-tapwH",
        "outputId": "87be64d2-10d1-43a7-dddf-9f23b2462574"
      },
      "source": [
        "# training\n",
        "tr_loss_hist = []\n",
        "\n",
        "for epoch in range(epochs):\n",
        "  avg_tr_loss = 0\n",
        "  tr_step = 0\n",
        "\n",
        "  for x_mb, y_mb in tr_dataset:\n",
        "    with tf.GradientTape() as tape:\n",
        "      tr_loss = loss_fn(model, x=x_mb, y=y_mb)\n",
        "    grads = tape.gradient(target=tr_loss, sources=model.variables)\n",
        "    opt.apply_gradients(grads_and_vars=zip(grads, model.variables))\n",
        "    avg_tr_loss += tr_loss\n",
        "    tr_step+= 1\n",
        "  if (epoch + 1) % 5 == 0:\n",
        "    print('epoch : {:3}, tr_loss : {:.3f}'.format(epoch+1, avg_tr_loss.numpy()))\n",
        "\n",
        "  else:\n",
        "    avg_tr_loss /= tr_step\n",
        "    tr_loss_hist.append(avg_tr_loss)"
      ],
      "execution_count": null,
      "outputs": [
        {
          "output_type": "stream",
          "text": [
            "epoch :   5, tr_loss : 0.001\n",
            "epoch :  10, tr_loss : 0.001\n",
            "epoch :  15, tr_loss : 0.001\n",
            "epoch :  20, tr_loss : 0.001\n",
            "epoch :  25, tr_loss : 0.001\n",
            "epoch :  30, tr_loss : 0.001\n"
          ],
          "name": "stdout"
        }
      ]
    },
    {
      "cell_type": "code",
      "metadata": {
        "colab": {
          "base_uri": "https://localhost:8080/"
        },
        "id": "K4M3EuUOczPH",
        "outputId": "48c690ee-0a19-4302-acc9-b6d5aca49e1b"
      },
      "source": [
        "yhat = model.predict(x_data)\n",
        "yhat = np.argmax(yhat, axis=-1)\n",
        "print('acc : {:.2%}'.format(np.mean(yhat == y_data)))"
      ],
      "execution_count": null,
      "outputs": [
        {
          "output_type": "stream",
          "text": [
            "acc : 100.00%\n"
          ],
          "name": "stdout"
        }
      ]
    },
    {
      "cell_type": "code",
      "metadata": {
        "colab": {
          "base_uri": "https://localhost:8080/",
          "height": 282
        },
        "id": "LXqNGFc9c0h-",
        "outputId": "f81d00f5-8825-4fe8-c720-679d7c251d86"
      },
      "source": [
        "plt.plot(tr_loss_hist)"
      ],
      "execution_count": null,
      "outputs": [
        {
          "output_type": "execute_result",
          "data": {
            "text/plain": [
              "[<matplotlib.lines.Line2D at 0x7f68f8f28750>]"
            ]
          },
          "metadata": {
            "tags": []
          },
          "execution_count": 28
        },
        {
          "output_type": "display_data",
          "data": {
            "image/png": "[encoded data removed]",
            "text/plain": [
              "<Figure size 432x288 with 1 Axes>"
            ]
          },
          "metadata": {
            "tags": [],
            "needs_background": "light"
          }
        }
      ]
    }
  ]
}