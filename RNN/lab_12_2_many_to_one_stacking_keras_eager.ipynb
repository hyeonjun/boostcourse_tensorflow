{
  "nbformat": 4,
  "nbformat_minor": 0,
  "metadata": {
    "colab": {
      "name": "lab-12-2-many-to-one-stacking-keras-eager.ipynb",
      "provenance": [],
      "collapsed_sections": [],
      "authorship_tag": "ABX9TyOtedZ6aP4WNtH//2hvF9XY",
      "include_colab_link": true
    },
    "kernelspec": {
      "name": "python3",
      "display_name": "Python 3"
    },
    "language_info": {
      "name": "python"
    }
  },
  "cells": [
    {
      "cell_type": "markdown",
      "metadata": {
        "id": "view-in-github",
        "colab_type": "text"
      },
      "source": [
        "<a href=\"https://colab.research.google.com/github/hyeonjun/boostcourse_tensorflow/blob/master/lab_12_2_many_to_one_stacking_keras_eager.ipynb\" target=\"_parent\"><img src=\"https://colab.research.google.com/assets/colab-badge.svg\" alt=\"Open In Colab\"/></a>"
      ]
    },
    {
      "cell_type": "markdown",
      "metadata": {
        "id": "O7FgHOraw5Du"
      },
      "source": [
        "# Lab 12-2 many to one stacking\n",
        "\n",
        "sentence sentiment classification\n",
        "- many to one\n",
        "- variable input sequence length\n",
        "- stacking\n",
        "- drop out\n",
        "\n",
        "CNN에서 convolution layer를 여러 개 쌓듯이 RNN도 recurrent neural network를 여러 개 쌓을 수 있다. 이를 multi layered RNN 또는 stacked RNN이라 한다.\n",
        "\n",
        "\n",
        "CNN에서 conv를 여러 개 쌓았을 때 인풋 이미지에 가까운 convolution layer는 edge와 같은 글로벌한 feature를 뽑을 수 있고, 아웃풋에 가까운 convolution layer는 좀 더 abstract한 feature를 뽑을 수 있듯,\n",
        "RNN에서도 비슷한 효과를 얻을 수 있다.\n",
        "\n",
        "\n",
        "다양한 문제를 풀 때 stacked RNN 구조가 shallow RNN보다 더 좋은 성능을 보인다.\n",
        "\n",
        "\n",
        "특히 자연어 처리에서 stacked RNN구조는 여러 논문에서 인풋에 가까운 RNN의 hidden states가 sementic information보다 syntatic information을 상대적으로 더 잘 인코딩을 하고 있으며, \n",
        "\n",
        "\n",
        "반대로 아웃풋에 가까운 RNN의 hidden states는 sementic information을 syntactic information보다 더 잘 인코딩하고 있다.\n",
        "\n",
        "\n"
      ]
    },
    {
      "cell_type": "code",
      "metadata": {
        "id": "eS8vjv1Vwzko"
      },
      "source": [
        "# setup\n",
        "import numpy as np\n",
        "import tensorflow as tf\n",
        "import matplotlib.pyplot as plt\n",
        "from tensorflow import keras\n",
        "from tensorflow.keras import layers\n",
        "from tensorflow.keras import Sequential, Model\n",
        "from tensorflow.keras.preprocessing.sequence import pad_sequences\n",
        "from pprint import pprint\n",
        "%matplotlib inline"
      ],
      "execution_count": null,
      "outputs": []
    },
    {
      "cell_type": "code",
      "metadata": {
        "id": "K9Rak4nYxHDL"
      },
      "source": [
        "# Preparing dataset\n",
        "# example data\n",
        "sentences = ['What I cannot create, I do not understand.',\n",
        "             'Intellecuals solve problems, geniuses prevent them',\n",
        "             'A person who never made a mistake never tied anything new.',\n",
        "             'The same equations have the same solutions.']\n",
        "y_data = [1,0,0,1] # 1: richard feynman, 0: albert einstein"
      ],
      "execution_count": null,
      "outputs": []
    },
    {
      "cell_type": "code",
      "metadata": {
        "colab": {
          "base_uri": "https://localhost:8080/"
        },
        "id": "o0f13n_6xOVM",
        "outputId": "f11e110e-1d8e-4865-ef33-81fd4d773045"
      },
      "source": [
        "# creating a token dictionary\n",
        "char_set = ['<pad>'] + sorted(list(set(''.join(sentences))))\n",
        "idx2char = {idx : char for idx, char in enumerate(char_set)}\n",
        "char2idx = {char : idx for idx, char in enumerate(char_set)}\n",
        "\n",
        "print(char_set)\n",
        "print(idx2char)\n",
        "print(char2idx)\n"
      ],
      "execution_count": null,
      "outputs": [
        {
          "output_type": "stream",
          "text": [
            "['<pad>', ' ', ',', '.', 'A', 'I', 'T', 'W', 'a', 'b', 'c', 'd', 'e', 'g', 'h', 'i', 'k', 'l', 'm', 'n', 'o', 'p', 'q', 'r', 's', 't', 'u', 'v', 'w', 'y']\n",
            "{0: '<pad>', 1: ' ', 2: ',', 3: '.', 4: 'A', 5: 'I', 6: 'T', 7: 'W', 8: 'a', 9: 'b', 10: 'c', 11: 'd', 12: 'e', 13: 'g', 14: 'h', 15: 'i', 16: 'k', 17: 'l', 18: 'm', 19: 'n', 20: 'o', 21: 'p', 22: 'q', 23: 'r', 24: 's', 25: 't', 26: 'u', 27: 'v', 28: 'w', 29: 'y'}\n",
            "{'<pad>': 0, ' ': 1, ',': 2, '.': 3, 'A': 4, 'I': 5, 'T': 6, 'W': 7, 'a': 8, 'b': 9, 'c': 10, 'd': 11, 'e': 12, 'g': 13, 'h': 14, 'i': 15, 'k': 16, 'l': 17, 'm': 18, 'n': 19, 'o': 20, 'p': 21, 'q': 22, 'r': 23, 's': 24, 't': 25, 'u': 26, 'v': 27, 'w': 28, 'y': 29}\n"
          ],
          "name": "stdout"
        }
      ]
    },
    {
      "cell_type": "code",
      "metadata": {
        "colab": {
          "base_uri": "https://localhost:8080/"
        },
        "id": "2bB3zDcPxmsy",
        "outputId": "79b1d0c1-ff42-44e7-9714-b99c8a12836f"
      },
      "source": [
        "# converting sequence of token to sequence of indices\n",
        "x_data = list(map(lambda sentence : [char2idx.get(char) for char in sentence], sentences))\n",
        "x_data_len = list(map(lambda sentence : len(sentence), sentences))\n",
        "\n",
        "print(x_data)\n",
        "print(x_data_len)\n",
        "print(y_data)"
      ],
      "execution_count": null,
      "outputs": [
        {
          "output_type": "stream",
          "text": [
            "[[7, 14, 8, 25, 1, 5, 1, 10, 8, 19, 19, 20, 25, 1, 10, 23, 12, 8, 25, 12, 2, 1, 5, 1, 11, 20, 1, 19, 20, 25, 1, 26, 19, 11, 12, 23, 24, 25, 8, 19, 11, 3], [5, 19, 25, 12, 17, 17, 12, 10, 26, 8, 17, 24, 1, 24, 20, 17, 27, 12, 1, 21, 23, 20, 9, 17, 12, 18, 24, 2, 1, 13, 12, 19, 15, 26, 24, 12, 24, 1, 21, 23, 12, 27, 12, 19, 25, 1, 25, 14, 12, 18], [4, 1, 21, 12, 23, 24, 20, 19, 1, 28, 14, 20, 1, 19, 12, 27, 12, 23, 1, 18, 8, 11, 12, 1, 8, 1, 18, 15, 24, 25, 8, 16, 12, 1, 19, 12, 27, 12, 23, 1, 25, 15, 12, 11, 1, 8, 19, 29, 25, 14, 15, 19, 13, 1, 19, 12, 28, 3], [6, 14, 12, 1, 24, 8, 18, 12, 1, 12, 22, 26, 8, 25, 15, 20, 19, 24, 1, 14, 8, 27, 12, 1, 25, 14, 12, 1, 24, 8, 18, 12, 1, 24, 20, 17, 26, 25, 15, 20, 19, 24, 3]]\n",
            "[42, 50, 58, 43]\n",
            "[1, 0, 0, 1]\n"
          ],
          "name": "stdout"
        }
      ]
    },
    {
      "cell_type": "code",
      "metadata": {
        "colab": {
          "base_uri": "https://localhost:8080/"
        },
        "id": "1xqGYXBKyCME",
        "outputId": "4309b3ef-8a8f-4523-c861-7c67840586dd"
      },
      "source": [
        "# padding the sequence of indices\n",
        "max_sequence = 55\n",
        "x_data = pad_sequences(sequences = x_data, maxlen= max_sequence,\n",
        "                      padding='post', truncating='post')\n",
        "\n",
        "# checking data\n",
        "print(x_data)\n",
        "print(x_data_len)\n",
        "print(y_data)\n"
      ],
      "execution_count": null,
      "outputs": [
        {
          "output_type": "stream",
          "text": [
            "[[ 7 14  8 25  1  5  1 10  8 19 19 20 25  1 10 23 12  8 25 12  2  1  5  1\n",
            "  11 20  1 19 20 25  1 26 19 11 12 23 24 25  8 19 11  3  0  0  0  0  0  0\n",
            "   0  0  0  0  0  0  0]\n",
            " [ 5 19 25 12 17 17 12 10 26  8 17 24  1 24 20 17 27 12  1 21 23 20  9 17\n",
            "  12 18 24  2  1 13 12 19 15 26 24 12 24  1 21 23 12 27 12 19 25  1 25 14\n",
            "  12 18  0  0  0  0  0]\n",
            " [ 4  1 21 12 23 24 20 19  1 28 14 20  1 19 12 27 12 23  1 18  8 11 12  1\n",
            "   8  1 18 15 24 25  8 16 12  1 19 12 27 12 23  1 25 15 12 11  1  8 19 29\n",
            "  25 14 15 19 13  1 19]\n",
            " [ 6 14 12  1 24  8 18 12  1 12 22 26  8 25 15 20 19 24  1 14  8 27 12  1\n",
            "  25 14 12  1 24  8 18 12  1 24 20 17 26 25 15 20 19 24  3  0  0  0  0  0\n",
            "   0  0  0  0  0  0  0]]\n",
            "[42, 50, 58, 43]\n",
            "[1, 0, 0, 1]\n"
          ],
          "name": "stdout"
        }
      ]
    },
    {
      "cell_type": "code",
      "metadata": {
        "colab": {
          "base_uri": "https://localhost:8080/"
        },
        "id": "QerLvCf8yWZc",
        "outputId": "50af7e08-5d9b-4bd9-dc00-3aa1daa10b70"
      },
      "source": [
        "# Creating model\n",
        "\n",
        "# creating stacked rnn for \"many to one\" classification with dropout\n",
        "num_classes = 2\n",
        "hidden_dims = [10,10]\n",
        "\n",
        "input_dim = len(char2idx)\n",
        "output_dim = len(char2idx)\n",
        "one_hot = np.eye(len(char2idx))\n",
        "\n",
        "model = Sequential()\n",
        "model.add(layers.Embedding(input_dim=input_dim, output_dim=output_dim,\n",
        "                           trainable=False, mask_zero=True, input_length=max_sequence,\n",
        "                           embeddings_initializer=keras.initializers.Constant(one_hot)))\n",
        "model.add(layers.SimpleRNN(units=hidden_dims[0], return_sequences=True))\n",
        "\n",
        "\"\"\"\n",
        "TimeDistributed와 Dropout을 같이 활용한다.\n",
        "이유는 stacked RNN은 shallow RNN에 비해서 모델의\n",
        "capacity가 높다. 그래서 오버 피팅될 가능성이 크다.\n",
        "\n",
        "이와 같은 코드를 활용하면 RNN이 각각의 토큰을 처리한\n",
        "hidden states에 Dropout을 걸 수 있다.\n",
        "\"\"\"\n",
        "model.add(layers.TimeDistributed(layers.Dropout(rate=.2)))\n",
        "\n",
        "\"\"\"\n",
        "두 번째 RNN은 마지막 hidden states를 리턴하도록 설계.\n",
        "마찬가지로 오버피팅을 방지하기 위해 hidden states에\n",
        "Dropout을 건다.\n",
        "\"\"\"\n",
        "model.add(layers.SimpleRNN(units=hidden_dims[1]))\n",
        "model.add(layers.Dropout(rate=.2))\n",
        "\n",
        "# 마지막으로 이를 Dense layer가 classification 한다.\n",
        "model.add(layers.Dense(units=num_classes))\n",
        "\n",
        "model.summary()"
      ],
      "execution_count": null,
      "outputs": [
        {
          "output_type": "stream",
          "text": [
            "Model: \"sequential\"\n",
            "_________________________________________________________________\n",
            "Layer (type)                 Output Shape              Param #   \n",
            "=================================================================\n",
            "embedding (Embedding)        (None, 55, 30)            900       \n",
            "_________________________________________________________________\n",
            "simple_rnn (SimpleRNN)       (None, 55, 10)            410       \n",
            "_________________________________________________________________\n",
            "time_distributed (TimeDistri (None, 55, 10)            0         \n",
            "_________________________________________________________________\n",
            "simple_rnn_1 (SimpleRNN)     (None, 10)                210       \n",
            "_________________________________________________________________\n",
            "dropout_1 (Dropout)          (None, 10)                0         \n",
            "_________________________________________________________________\n",
            "dense (Dense)                (None, 2)                 22        \n",
            "=================================================================\n",
            "Total params: 1,542\n",
            "Trainable params: 642\n",
            "Non-trainable params: 900\n",
            "_________________________________________________________________\n"
          ],
          "name": "stdout"
        }
      ]
    },
    {
      "cell_type": "code",
      "metadata": {
        "id": "9F_PgUwizWZK"
      },
      "source": [
        "# Training model\n",
        "# creating loss function\n",
        "\"\"\"\n",
        "여기서 설계한 stacked RNN 구조는 Dropout을 활용하고 있다.\n",
        "Dropout은 트레이닝할 때 활용하되 inference 단계에서는 활용하지 않는다.\n",
        "그래서 이를 컨트롤하기 위해 loss function에 training argument를 둔다.\n",
        "\"\"\"\n",
        "def loss_fn(model, x, y, training):\n",
        "  return tf.reduce_mean(tf.keras.losses.sparse_categorical_crossentropy(\n",
        "      y_true=y, y_pred=model(x,training), from_logits=True\n",
        "  ))\n",
        "\n",
        "# creating and optimizer\n",
        "lr = .01\n",
        "epochs = 30\n",
        "batch_size = 2\n",
        "opt = tf.keras.optimizers.Adam(learning_rate=lr)"
      ],
      "execution_count": null,
      "outputs": []
    },
    {
      "cell_type": "code",
      "metadata": {
        "colab": {
          "base_uri": "https://localhost:8080/"
        },
        "id": "RwWs_nt7zyIU",
        "outputId": "25839c5b-dc15-4c38-837c-92638ebb9b0b"
      },
      "source": [
        "# generating data pipeline\n",
        "tr_dataset = tf.data.Dataset.from_tensor_slices((x_data,y_data))\n",
        "tr_dataset = tr_dataset.shuffle(buffer_size =4)\n",
        "tr_dataset = tr_dataset.batch(batch_size = batch_size)\n",
        "print(tr_dataset)"
      ],
      "execution_count": null,
      "outputs": [
        {
          "output_type": "stream",
          "text": [
            "<BatchDataset shapes: ((None, 55), (None,)), types: (tf.int32, tf.int32)>\n"
          ],
          "name": "stdout"
        }
      ]
    },
    {
      "cell_type": "code",
      "metadata": {
        "colab": {
          "base_uri": "https://localhost:8080/"
        },
        "id": "RoATkurr0NS7",
        "outputId": "8e8c1602-32b4-4f1a-e49c-8e8d9dfcb028"
      },
      "source": [
        "# training\n",
        "tr_loss_hist = []\n",
        "\n",
        "for epoch in range(epochs):\n",
        "  avg_tr_loss = 0\n",
        "  tr_step = 0\n",
        "\n",
        "  for x_mb, y_mb in tr_dataset:\n",
        "    with tf.GradientTape() as tape: # mini batch마다의 cross entropy loss를 loss fn을 활용하여 계산\n",
        "      tr_loss = loss_fn(model, x=x_mb, y=y_mb, training=True)\n",
        "    grads = tape.gradient(target=tr_loss, sources=model.variables) # Gradient를 구함\n",
        "    opt.apply_gradients(grads_and_vars=zip(grads, model.variables)) # Gradient Descent를 구함\n",
        "    avg_tr_loss += tr_loss\n",
        "    tr_step += 1\n",
        "  if (epoch + 1) % 5 == 0:\n",
        "    print('epoch : {:3}, tr_loss : {:.3f}'.format(epoch+1, avg_tr_loss.numpy()))\n",
        "  else:\n",
        "    avg_tr_loss /= tr_step\n",
        "    tr_loss_hist.append(avg_tr_loss)\n"
      ],
      "execution_count": null,
      "outputs": [
        {
          "output_type": "stream",
          "text": [
            "epoch :   5, tr_loss : 0.001\n",
            "epoch :  10, tr_loss : 0.004\n",
            "epoch :  15, tr_loss : 0.007\n",
            "epoch :  20, tr_loss : 0.002\n",
            "epoch :  25, tr_loss : 0.001\n",
            "epoch :  30, tr_loss : 0.003\n"
          ],
          "name": "stdout"
        }
      ]
    },
    {
      "cell_type": "code",
      "metadata": {
        "colab": {
          "base_uri": "https://localhost:8080/"
        },
        "id": "3zCnZhXg1MlE",
        "outputId": "630d87e6-2a29-4788-d52e-f1d300e84d75"
      },
      "source": [
        "# Checking performance\n",
        "yhat = model.predict(x_data)\n",
        "yhat = np.argmax(yhat, axis=-1)\n",
        "print('accuracy : {:.2%}'.format(np.mean(yhat == y_data)))"
      ],
      "execution_count": null,
      "outputs": [
        {
          "output_type": "stream",
          "text": [
            "accuracy : 100.00%\n"
          ],
          "name": "stdout"
        }
      ]
    },
    {
      "cell_type": "code",
      "metadata": {
        "colab": {
          "base_uri": "https://localhost:8080/",
          "height": 282
        },
        "id": "Nff6btmz1Ymz",
        "outputId": "77eb73ce-3268-4ac3-a730-b599cf305654"
      },
      "source": [
        "plt.plot(tr_loss_hist)"
      ],
      "execution_count": null,
      "outputs": [
        {
          "output_type": "execute_result",
          "data": {
            "text/plain": [
              "[<matplotlib.lines.Line2D at 0x7fef18910cd0>]"
            ]
          },
          "metadata": {
            "tags": []
          },
          "execution_count": 19
        },
        {
          "output_type": "display_data",
          "data": {
            "image/png": "[encoded data removed]",
            "text/plain": [
              "<Figure size 432x288 with 1 Axes>"
            ]
          },
          "metadata": {
            "tags": [],
            "needs_background": "light"
          }
        }
      ]
    }
  ]
}