{
  "nbformat": 4,
  "nbformat_minor": 0,
  "metadata": {
    "colab": {
      "name": "lab-12-3-many-to-many-keras-eager.ipynb",
      "provenance": [],
      "collapsed_sections": [],
      "authorship_tag": "ABX9TyPSoXL7fg/GpoSd9+yarGqc",
      "include_colab_link": true
    },
    "kernelspec": {
      "name": "python3",
      "display_name": "Python 3"
    },
    "language_info": {
      "name": "python"
    }
  },
  "cells": [
    {
      "cell_type": "markdown",
      "metadata": {
        "id": "view-in-github",
        "colab_type": "text"
      },
      "source": [
        "<a href=\"https://colab.research.google.com/github/hyeonjun/boostcourse_tensorflow/blob/master/lab_12_3_many_to_many_keras_eager.ipynb\" target=\"_parent\"><img src=\"https://colab.research.google.com/assets/colab-badge.svg\" alt=\"Open In Colab\"/></a>"
      ]
    },
    {
      "cell_type": "markdown",
      "metadata": {
        "id": "mmbXpM748xhD"
      },
      "source": [
        "# many to many\n",
        "\n",
        "simple pos-targger training\n",
        "- many to many\n",
        "- variable input sequence length\n",
        "\n",
        "Example : part of speech tagging\n",
        "- Preparing dataset\n",
        "- Creating and training model\n",
        "- Checking performance\n",
        "\n",
        "자연어 처리에서 개체명 인식 또는 형태소 분석과 같은 시퀀스 태깅을 모델링하는데 활용할 수 있다.\n",
        "\n",
        "many to many는 RNN이 시퀀스를 구성하고 있는 각각의 토큰에 대해 모두 출력을 내어주는 구조.\n",
        "\n",
        "setence를 word 단위로 tokenization 한 뒤,\n",
        "이러한 토큰으로 이루어진 시퀀스를 RNN이 각각의 토큰을 읽고 해당 토큰이 어떤 품사인지 파악하는 방식으로 many to many를 활용할 수 있다.\n",
        "\n",
        "토큰인 word는 숫자가 아니기 때문에 Embedding layer를 이용하여 RNN이 처리할 수 있도록 numeric vector로 변환해야 한다.\n",
        "\n",
        "이렇게 numeric vector로 변환된 토큰을 RNN이 각각의 토큰ㅇ르 순서대로 읽을 때마다 토큰에 대한 출력을 내고 이를 정답과 비교하여 토큰마다 loss를 계산한다.\n",
        "\n",
        "그리고 모든 토큰에 대해 계산된 loss의 평균을 낸다(sequence loss)\n",
        "\n",
        "이 sequence loss를 RNN을 back propagation을 통해서 학습할 수 있다.\n",
        "\n",
        "\n"
      ]
    },
    {
      "cell_type": "code",
      "metadata": {
        "id": "0eBrAMI88pDC"
      },
      "source": [
        "# setup\n",
        "import numpy as np\n",
        "import tensorflow as tf\n",
        "import matplotlib.pyplot as plt\n",
        "from tensorflow import keras\n",
        "from tensorflow.keras import layers\n",
        "from tensorflow.keras import Sequential, Model\n",
        "from tensorflow.keras.preprocessing.sequence import pad_sequences\n",
        "from pprint import pprint\n",
        "%matplotlib inline"
      ],
      "execution_count": null,
      "outputs": []
    },
    {
      "cell_type": "code",
      "metadata": {
        "id": "XGIdefcU9BFD"
      },
      "source": [
        "# Preparing dataset\n",
        "# example data\n",
        "# 문장\n",
        "sentences = [['I', 'feel', 'hungry'],\n",
        "     ['tensorflow', 'is', 'very', 'difficult'],\n",
        "     ['tensorflow', 'is', 'a', 'framework', 'for', 'deep', 'learning'],\n",
        "     ['tensorflow', 'is', 'very', 'fast', 'changing']]\n",
        "# 품사\n",
        "pos = [['pronoun', 'verb', 'adjective'],\n",
        "     ['noun', 'verb', 'adverb', 'adjective'],\n",
        "     ['noun', 'verb', 'determiner', 'noun', 'preposition', 'adjective', 'noun'],\n",
        "     ['noun', 'verb', 'adverb', 'adjective', 'verb']]"
      ],
      "execution_count": null,
      "outputs": []
    },
    {
      "cell_type": "code",
      "metadata": {
        "colab": {
          "base_uri": "https://localhost:8080/"
        },
        "id": "fxvoJjSQ9Dk1",
        "outputId": "f0bca87a-6d52-4978-f79b-ab59593a6adb"
      },
      "source": [
        "# Preprocessing dataset\n",
        "# creating a token dictionary for word\n",
        "word_list = sum(sentences, [])\n",
        "word_list = sorted(set(word_list))\n",
        "word_list = ['<pad>']+word_list # 입력과 출력의 같음을 표현하기 위해 pad 토큰 포함\n",
        "word2idx = {word : idx for idx, word in enumerate(word_list)}\n",
        "idx2word = {idx : word for idx, word in enumerate(word_list)}\n",
        "\n",
        "print(word2idx)\n",
        "print(idx2word)\n",
        "print(len(idx2word))"
      ],
      "execution_count": null,
      "outputs": [
        {
          "output_type": "stream",
          "text": [
            "{'<pad>': 0, 'I': 1, 'a': 2, 'changing': 3, 'deep': 4, 'difficult': 5, 'fast': 6, 'feel': 7, 'for': 8, 'framework': 9, 'hungry': 10, 'is': 11, 'learning': 12, 'tensorflow': 13, 'very': 14}\n",
            "{0: '<pad>', 1: 'I', 2: 'a', 3: 'changing', 4: 'deep', 5: 'difficult', 6: 'fast', 7: 'feel', 8: 'for', 9: 'framework', 10: 'hungry', 11: 'is', 12: 'learning', 13: 'tensorflow', 14: 'very'}\n",
            "15\n"
          ],
          "name": "stdout"
        }
      ]
    },
    {
      "cell_type": "code",
      "metadata": {
        "colab": {
          "base_uri": "https://localhost:8080/"
        },
        "id": "3qDqTMoe9jnr",
        "outputId": "b0defd64-b637-4806-a8cc-6a9e32e368cd"
      },
      "source": [
        "# creating a token dictionary for part of speech\n",
        "pos_list = sum(pos, [])\n",
        "pos_list = sorted(set(pos_list))\n",
        "pos_list = ['<pad>']+pos_list # 입력과 출력의 같음을 표현하기 위해 pad 토큰 포함\n",
        "pos2idx = {pos : idx for idx, pos in enumerate(pos_list)}\n",
        "idx2pos = {idx : pos for idx, pos in enumerate(pos_list)}\n",
        "\n",
        "print(pos2idx)\n",
        "print(idx2pos)\n",
        "print(len(pos2idx))"
      ],
      "execution_count": null,
      "outputs": [
        {
          "output_type": "stream",
          "text": [
            "{'<pad>': 0, 'adjective': 1, 'adverb': 2, 'determiner': 3, 'noun': 4, 'preposition': 5, 'pronoun': 6, 'verb': 7}\n",
            "{0: '<pad>', 1: 'adjective', 2: 'adverb', 3: 'determiner', 4: 'noun', 5: 'preposition', 6: 'pronoun', 7: 'verb'}\n",
            "8\n"
          ],
          "name": "stdout"
        }
      ]
    },
    {
      "cell_type": "code",
      "metadata": {
        "colab": {
          "base_uri": "https://localhost:8080/"
        },
        "id": "yxWbOk4j-FTD",
        "outputId": "0c0956ba-7bab-4bba-e4cf-a87f2ed586aa"
      },
      "source": [
        "# converting sequence of tokens to sequence of indices\n",
        "max_sequence = 10\n",
        "# 토큰 딕셔너리를 기반으로 word의 시퀀스를 integer index의 시퀀스로 변환\n",
        "x_data = list(map(lambda sentence : [word2idx.get(token) for token in sentence], sentences))\n",
        "# 품사도 마찬가지로 변환\n",
        "y_data = list(map(lambda sentence : [pos2idx.get(token) for token in sentence], pos))\n",
        "\n",
        "# padding the sequence of indices\n",
        "# pad_sequences function을 이용하여 max_sequence의 값만큼의 길이로 padding\n",
        "x_data = pad_sequences(sequences=x_data, maxlen=max_sequence, padding='post')\n",
        "# padding한 부분에 대한 마스킨 정보를 담고 있는 x_data_mask\n",
        "x_data_mask = ((x_data != 0) * 1).astype(np.float32)\n",
        "# 각각의 sentence가 몇 개의 word로 tokenization이 됐는지 계산한 sentence에 유효한  길이\n",
        "x_data_len = list(map(lambda sentence : len(sentence), sentences))\n",
        "\n",
        "\n",
        "y_data = pad_sequences(sequences=y_data, maxlen=max_sequence, padding='post')\n",
        "\n",
        "# checking data\n",
        "print(x_data, x_data_len)\n",
        "print(x_data_mask)\n",
        "print(y_data)"
      ],
      "execution_count": null,
      "outputs": [
        {
          "output_type": "stream",
          "text": [
            "[[ 1  7 10  0  0  0  0  0  0  0]\n",
            " [13 11 14  5  0  0  0  0  0  0]\n",
            " [13 11  2  9  8  4 12  0  0  0]\n",
            " [13 11 14  6  3  0  0  0  0  0]] [3, 4, 7, 5]\n",
            "[[1. 1. 1. 0. 0. 0. 0. 0. 0. 0.]\n",
            " [1. 1. 1. 1. 0. 0. 0. 0. 0. 0.]\n",
            " [1. 1. 1. 1. 1. 1. 1. 0. 0. 0.]\n",
            " [1. 1. 1. 1. 1. 0. 0. 0. 0. 0.]]\n",
            "[[6 7 1 0 0 0 0 0 0 0]\n",
            " [4 7 2 1 0 0 0 0 0 0]\n",
            " [4 7 3 4 5 1 4 0 0 0]\n",
            " [4 7 2 1 7 0 0 0 0 0]]\n"
          ],
          "name": "stdout"
        }
      ]
    },
    {
      "cell_type": "code",
      "metadata": {
        "colab": {
          "base_uri": "https://localhost:8080/"
        },
        "id": "bxH9MNa__aQK",
        "outputId": "968232b8-5944-4edc-f3e4-3a556be57371"
      },
      "source": [
        "# Creating model\n",
        "# creating rnn for \"many to many\" sequence tagging\n",
        "num_classes = len(pos2idx)\n",
        "hidden_dim=10\n",
        "input_dim=len(word2idx)\n",
        "output_dim=len(word2idx)\n",
        "one_hot = np.eye(len(word2idx))\n",
        "\n",
        "model = Sequential()\n",
        "# Embedding layer의 경우 토큰을 one hot venctor로 표현하고, 학습은 시키지 않는다.\n",
        "# 0으로 padding된 부분을 연산에서 제외하는 방식으로 활용\n",
        "model.add(layers.Embedding(input_dim=input_dim, output_dim=output_dim, mask_zero=True,\n",
        "                           trainable=False, input_length=max_sequence, embeddings_initializer=keras.initializers.Constant(one_hot)))\n",
        "# Embedding layer 이외에는 Simple RNN을 return_sequences=True 옵션을 줘서 활용\n",
        "# RNN이 있는 모든 토큰에 대해서 출력을 내줘야하기 때문.\n",
        "model.add(layers.SimpleRNN(units=hidden_dim, return_sequences=True))\n",
        "# TImeDistributed와 Dense를 이용.\n",
        "# 매 토큰마다 품사가 무엇인지 classification을 하는 형태로 RNN을 many to many 방식으로\n",
        "# 활용하는 구조를 완성할 수 있다.\n",
        "model.add(layers.TimeDistributed(layers.Dense(units=num_classes)))\n",
        "\n",
        "model.summary()"
      ],
      "execution_count": null,
      "outputs": [
        {
          "output_type": "stream",
          "text": [
            "Model: \"sequential\"\n",
            "_________________________________________________________________\n",
            "Layer (type)                 Output Shape              Param #   \n",
            "=================================================================\n",
            "embedding (Embedding)        (None, 10, 15)            225       \n",
            "_________________________________________________________________\n",
            "simple_rnn (SimpleRNN)       (None, 10, 10)            260       \n",
            "_________________________________________________________________\n",
            "time_distributed (TimeDistri (None, 10, 8)             88        \n",
            "=================================================================\n",
            "Total params: 573\n",
            "Trainable params: 348\n",
            "Non-trainable params: 225\n",
            "_________________________________________________________________\n"
          ],
          "name": "stdout"
        }
      ]
    },
    {
      "cell_type": "code",
      "metadata": {
        "id": "jPhKNfMWAFUa"
      },
      "source": [
        "# Training model\n",
        "# creating loss Function 모델의 출력과 결과를 비교.\n",
        "# 매 토큰마다 loss를 계산해야하고 특히 pad 토큰에 대한 부분은 loss에 반영하면 안된다.\n",
        "# 그래서 실제 시퀀스에 유효한 길이와 max_sequence를 받아 마스킹을 생성하고\n",
        "# 이를 mini batch loss에 반영하는 형태로 loss function을 구현한다.\n",
        "def loss_fn(model, x, y, x_len, max_sequence):\n",
        "  masking = tf.sequence_mask(x_len, maxlen=max_sequence, dtype=tf.float32)\n",
        "  valid_time_step=tf.cast(x_len, dtype=tf.float32)\n",
        "  sequence_loss = tf.keras.losses.sparse_categorical_crossentropy(\n",
        "      y_true=y, y_pred=model(x), from_logits=True) * masking\n",
        "  sequence_loss = tf.reduce_sum(sequence_loss, axis=-1) / valid_time_step\n",
        "  sequence_loss = tf.reduce_mean(sequence_loss)\n",
        "  return sequence_loss\n",
        "\n",
        "# creating and optimizer\n",
        "lr = 0.1\n",
        "epochs = 30\n",
        "batch_size = 2 \n",
        "opt = tf.keras.optimizers.Adam(learning_rate = lr)"
      ],
      "execution_count": null,
      "outputs": []
    },
    {
      "cell_type": "code",
      "metadata": {
        "colab": {
          "base_uri": "https://localhost:8080/"
        },
        "id": "70Ibgsz3Azts",
        "outputId": "52e03980-6f70-486e-be00-c82450c5fc9a"
      },
      "source": [
        "# generating data pipeline\n",
        "tr_dataset = tf.data.Dataset.from_tensor_slices((x_data, y_data, x_data_len))\n",
        "tr_dataset = tr_dataset.shuffle(buffer_size=4)\n",
        "tr_dataset = tr_dataset.batch(batch_size = 2)\n",
        "\n",
        "print(tr_dataset)"
      ],
      "execution_count": null,
      "outputs": [
        {
          "output_type": "stream",
          "text": [
            "<BatchDataset shapes: ((None, 10), (None, 10), (None,)), types: (tf.int32, tf.int32, tf.int32)>\n"
          ],
          "name": "stdout"
        }
      ]
    },
    {
      "cell_type": "code",
      "metadata": {
        "colab": {
          "base_uri": "https://localhost:8080/"
        },
        "id": "Sd-RwQsZCSya",
        "outputId": "26a3c0c8-b5f6-42c4-db79-dd820d42157b"
      },
      "source": [
        "# training\n",
        "tr_loss_hist = []\n",
        "\n",
        "for epoch in range(epochs):\n",
        "  avg_tr_loss = 0\n",
        "  tr_step = 0\n",
        "\n",
        "  for x_mb, y_mb, x_mb_len in tr_dataset:\n",
        "    with tf.GradientTape() as tape: # mini batch마다의 시퀀스 loss를 계산\n",
        "      # 시퀀스의 유효한 길이(x_len)와 max_sequence를 인풋으로 받고있음\n",
        "      tr_loss = loss_fn(model, x=x_mb, y=y_mb, x_len=x_mb_len, max_sequence=max_sequence)\n",
        "    grads = tape.gradient(target=tr_loss, sources=model.variables) # Gradient 계산\n",
        "    opt.apply_gradients(grads_and_vars=zip(grads, model.variables)) # Gradient Descent\n",
        "    avg_tr_loss += tr_loss\n",
        "    tr_step += 1\n",
        "  if (epoch + 1) %5 == 0:\n",
        "    print('epoch : {:3}, tr_loss : {:.3f}'.format(epoch +1, avg_tr_loss))\n",
        "  else:\n",
        "    avg_tr_loss /= tr_step\n",
        "    tr_loss_hist.append(avg_tr_loss)"
      ],
      "execution_count": null,
      "outputs": [
        {
          "output_type": "stream",
          "text": [
            "epoch :   5, tr_loss : 0.397\n",
            "epoch :  10, tr_loss : 0.017\n",
            "epoch :  15, tr_loss : 0.004\n",
            "epoch :  20, tr_loss : 0.002\n",
            "epoch :  25, tr_loss : 0.001\n",
            "epoch :  30, tr_loss : 0.001\n"
          ],
          "name": "stdout"
        }
      ]
    },
    {
      "cell_type": "code",
      "metadata": {
        "colab": {
          "base_uri": "https://localhost:8080/"
        },
        "id": "FKcLrvECDThV",
        "outputId": "a6eec3e3-1be0-45a9-c31e-df71e3338242"
      },
      "source": [
        "# Checking performance\n",
        "yhat = model.predict(x_data)\n",
        "yhat = np.argmax(yhat, axis=-1) * x_data_mask\n",
        "\n",
        "# pad 토큰이 추가되었는데 이는 모델을 batch 단위 연산으로 트레이닝하기 위해서\n",
        "# 입력과 출력의 시퀀스에 pad 토큰을 이용하여 padding했기 때문.\n",
        "pprint(list(map(lambda row : [idx2pos.get(elm) for elm in row],yhat.astype(np.int32).tolist())), width=120)\n",
        "pprint(pos)"
      ],
      "execution_count": null,
      "outputs": [
        {
          "output_type": "stream",
          "text": [
            "[['pronoun', 'verb', 'adjective', '<pad>', '<pad>', '<pad>', '<pad>', '<pad>', '<pad>', '<pad>'],\n",
            " ['noun', 'verb', 'adverb', 'adjective', '<pad>', '<pad>', '<pad>', '<pad>', '<pad>', '<pad>'],\n",
            " ['noun', 'verb', 'determiner', 'noun', 'preposition', 'adjective', 'noun', '<pad>', '<pad>', '<pad>'],\n",
            " ['noun', 'verb', 'adverb', 'adjective', 'verb', '<pad>', '<pad>', '<pad>', '<pad>', '<pad>']]\n",
            "[['pronoun', 'verb', 'adjective'],\n",
            " ['noun', 'verb', 'adverb', 'adjective'],\n",
            " ['noun', 'verb', 'determiner', 'noun', 'preposition', 'adjective', 'noun'],\n",
            " ['noun', 'verb', 'adverb', 'adjective', 'verb']]\n"
          ],
          "name": "stdout"
        }
      ]
    },
    {
      "cell_type": "code",
      "metadata": {
        "id": "Ia2_V8qtDplr",
        "colab": {
          "base_uri": "https://localhost:8080/",
          "height": 282
        },
        "outputId": "331552c2-ee52-4185-ef8a-4a74a378b197"
      },
      "source": [
        "plt.plot(tr_loss_hist)"
      ],
      "execution_count": null,
      "outputs": [
        {
          "output_type": "execute_result",
          "data": {
            "text/plain": [
              "[<matplotlib.lines.Line2D at 0x7f06b1f5ff50>]"
            ]
          },
          "metadata": {
            "tags": []
          },
          "execution_count": 17
        },
        {
          "output_type": "display_data",
          "data": {
            "image/png": "[encoded data removed]",
            "text/plain": [
              "<Figure size 432x288 with 1 Axes>"
            ]
          },
          "metadata": {
            "tags": [],
            "needs_background": "light"
          }
        }
      ]
    }
  ]
}